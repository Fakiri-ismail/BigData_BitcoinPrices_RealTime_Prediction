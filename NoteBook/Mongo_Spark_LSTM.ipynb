{
 "cells": [
  {
   "cell_type": "markdown",
   "metadata": {},
   "source": [
    "# Packages Import"
   ]
  },
  {
   "cell_type": "code",
   "execution_count": 1,
   "metadata": {},
   "outputs": [],
   "source": [
    "import tensorflow as tf\n",
    "from pymongo import  MongoClient\n",
    "import json\n",
    "import requests\n",
    "from tensorflow.python.keras.models import Sequential\n",
    "from tensorflow.python.keras.layers import Activation, Dense, Dropout, LSTM\n",
    "import matplotlib.pyplot as plt\n",
    "import numpy as np\n",
    "import pandas as pd\n",
    "import seaborn as sns\n",
    "from sklearn.metrics import mean_absolute_error\n",
    "from sklearn.preprocessing import MinMaxScaler\n",
    "from apscheduler.schedulers.blocking import BlockingScheduler"
   ]
  },
  {
   "cell_type": "markdown",
   "metadata": {},
   "source": [
    "# Connexion Spark MongoDB"
   ]
  },
  {
   "cell_type": "code",
   "execution_count": 2,
   "metadata": {},
   "outputs": [],
   "source": [
    "import findspark\n",
    "findspark.init(spark_home='D:\\spark')\n",
    "from pyspark import SparkContext,SparkConf\n",
    "from pyspark.sql import SQLContext"
   ]
  },
  {
   "cell_type": "code",
   "execution_count": 3,
   "metadata": {},
   "outputs": [
    {
     "data": {
      "text/plain": [
       "<pyspark.conf.SparkConf at 0x2c13bb6b9b0>"
      ]
     },
     "execution_count": 3,
     "metadata": {},
     "output_type": "execute_result"
    }
   ],
   "source": [
    "input_uri = \"mongodb://localhost:27017/Bitcoin.data\"\n",
    "output_uri = \"mongodb://localhost:27017/Bitcoin.data\"\n",
    "\n",
    "conf=SparkConf()\n",
    "conf.set('spark.mongodb.input.uri', input_uri)\n",
    "conf.set('spark.mongodb.output.uri', output_uri)\n",
    "conf.set('spark.mongodb.input.sampleSize', 50000)"
   ]
  },
  {
   "cell_type": "code",
   "execution_count": 4,
   "metadata": {},
   "outputs": [
    {
     "name": "stdout",
     "output_type": "stream",
     "text": [
      "root\n",
      " |-- _id: struct (nullable = true)\n",
      " |    |-- oid: string (nullable = true)\n",
      " |-- price_usd: double (nullable = true)\n",
      " |-- timestamp: timestamp (nullable = true)\n",
      "\n"
     ]
    }
   ],
   "source": [
    "sc=SparkContext.getOrCreate(conf=conf)\n",
    "sqlContext=SQLContext(sc)\n",
    "df=sqlContext.read.format(\"com.mongodb.spark.sql.DefaultSource\").load()\n",
    "df.printSchema()"
   ]
  },
  {
   "cell_type": "code",
   "execution_count": 5,
   "metadata": {},
   "outputs": [
    {
     "name": "stdout",
     "output_type": "stream",
     "text": [
      "+--------------------+------------------+--------------------+\n",
      "|                 _id|         price_usd|           timestamp|\n",
      "+--------------------+------------------+--------------------+\n",
      "|[6009634838b90e41...|32788.853887854064|2021-01-21 12:19:...|\n",
      "|[6009634838b90e41...| 32768.19062723364|2021-01-21 12:19:...|\n",
      "|[6009636438b90e41...| 32769.62215628142|2021-01-21 12:20:...|\n",
      "|[6009636b38b90e41...|32765.258738309698|2021-01-21 12:20:...|\n",
      "|[6009637338b90e41...|32737.118081120694|2021-01-21 12:20:...|\n",
      "+--------------------+------------------+--------------------+\n",
      "only showing top 5 rows\n",
      "\n"
     ]
    }
   ],
   "source": [
    "df.show(5)"
   ]
  },
  {
   "cell_type": "code",
   "execution_count": 60,
   "metadata": {},
   "outputs": [
    {
     "data": {
      "text/plain": [
       "671"
      ]
     },
     "execution_count": 60,
     "metadata": {},
     "output_type": "execute_result"
    }
   ],
   "source": [
    "df.count()"
   ]
  },
  {
   "cell_type": "code",
   "execution_count": 7,
   "metadata": {},
   "outputs": [
    {
     "data": {
      "text/html": [
       "<div>\n",
       "<style scoped>\n",
       "    .dataframe tbody tr th:only-of-type {\n",
       "        vertical-align: middle;\n",
       "    }\n",
       "\n",
       "    .dataframe tbody tr th {\n",
       "        vertical-align: top;\n",
       "    }\n",
       "\n",
       "    .dataframe thead th {\n",
       "        text-align: right;\n",
       "    }\n",
       "</style>\n",
       "<table border=\"1\" class=\"dataframe\">\n",
       "  <thead>\n",
       "    <tr style=\"text-align: right;\">\n",
       "      <th></th>\n",
       "      <th>_id</th>\n",
       "      <th>price_usd</th>\n",
       "      <th>timestamp</th>\n",
       "    </tr>\n",
       "  </thead>\n",
       "  <tbody>\n",
       "    <tr>\n",
       "      <th>0</th>\n",
       "      <td>(6009634838b90e41dcf0e0f8,)</td>\n",
       "      <td>32788.853888</td>\n",
       "      <td>2021-01-21 12:19:27.476</td>\n",
       "    </tr>\n",
       "    <tr>\n",
       "      <th>1</th>\n",
       "      <td>(6009634838b90e41dcf0e0f9,)</td>\n",
       "      <td>32768.190627</td>\n",
       "      <td>2021-01-21 12:19:35.246</td>\n",
       "    </tr>\n",
       "    <tr>\n",
       "      <th>2</th>\n",
       "      <td>(6009636438b90e41dcf0e0fa,)</td>\n",
       "      <td>32769.622156</td>\n",
       "      <td>2021-01-21 12:20:03.349</td>\n",
       "    </tr>\n",
       "    <tr>\n",
       "      <th>3</th>\n",
       "      <td>(6009636b38b90e41dcf0e0fb,)</td>\n",
       "      <td>32765.258738</td>\n",
       "      <td>2021-01-21 12:20:10.362</td>\n",
       "    </tr>\n",
       "    <tr>\n",
       "      <th>4</th>\n",
       "      <td>(6009637338b90e41dcf0e0fc,)</td>\n",
       "      <td>32737.118081</td>\n",
       "      <td>2021-01-21 12:20:17.972</td>\n",
       "    </tr>\n",
       "  </tbody>\n",
       "</table>\n",
       "</div>"
      ],
      "text/plain": [
       "                           _id     price_usd               timestamp\n",
       "0  (6009634838b90e41dcf0e0f8,)  32788.853888 2021-01-21 12:19:27.476\n",
       "1  (6009634838b90e41dcf0e0f9,)  32768.190627 2021-01-21 12:19:35.246\n",
       "2  (6009636438b90e41dcf0e0fa,)  32769.622156 2021-01-21 12:20:03.349\n",
       "3  (6009636b38b90e41dcf0e0fb,)  32765.258738 2021-01-21 12:20:10.362\n",
       "4  (6009637338b90e41dcf0e0fc,)  32737.118081 2021-01-21 12:20:17.972"
      ]
     },
     "execution_count": 7,
     "metadata": {},
     "output_type": "execute_result"
    }
   ],
   "source": [
    "df_p=df.toPandas()\n",
    "df_p.head()"
   ]
  },
  {
   "cell_type": "markdown",
   "metadata": {},
   "source": [
    "# Model"
   ]
  },
  {
   "cell_type": "code",
   "execution_count": 52,
   "metadata": {},
   "outputs": [],
   "source": [
    "def line_plot(line1, line2, label1=None, label2=None, title='', lw=2):\n",
    "    fig, ax = plt.subplots(1, figsize=(13, 7))\n",
    "    ax.plot(line1, label=label1, linewidth=lw)\n",
    "    ax.plot(line2, label=label2, linewidth=lw)\n",
    "    ax.set_ylabel('prix [EUR]', fontsize=14)\n",
    "    ax.set_title(title, fontsize=16)\n",
    "    ax.legend(loc='best', fontsize=16)"
   ]
  },
  {
   "cell_type": "code",
   "execution_count": 53,
   "metadata": {},
   "outputs": [],
   "source": [
    "def train_test_split(df, test_size=0.2):\n",
    "    split_row = len(df) - int(test_size * len(df))\n",
    "    train_data = df.iloc[:split_row]\n",
    "    test_data = df.iloc[split_row:]\n",
    "    return train_data, test_data"
   ]
  },
  {
   "cell_type": "code",
   "execution_count": 54,
   "metadata": {},
   "outputs": [],
   "source": [
    "def normalise_zero_base(df):\n",
    "    scaler = MinMaxScaler()\n",
    "    return scaler.fit_transform(df.iloc[:,0:6])\n",
    "\n",
    "def normalise_min_max(df):\n",
    "    return (df - df.min()) / (data.max() - df.min())"
   ]
  },
  {
   "cell_type": "code",
   "execution_count": 55,
   "metadata": {},
   "outputs": [],
   "source": [
    "def extract_window_data(df, window_len=5, zero_base=True):\n",
    "    window_data = []\n",
    "    for idx in range(len(df) - window_len):\n",
    "        tmp = df[idx: (idx + window_len)].copy()\n",
    "        if zero_base:\n",
    "            tmp = normalise_zero_base(tmp)\n",
    "        window_data.append(tmp)\n",
    "    return np.array(window_data)"
   ]
  },
  {
   "cell_type": "code",
   "execution_count": 56,
   "metadata": {},
   "outputs": [],
   "source": [
    "def prepare_data(df, target_col, window_len=10, zero_base=True, test_size=0.2):\n",
    "    \n",
    "    train_data, test_data = train_test_split(df, test_size=test_size)\n",
    "\n",
    "    X_train = extract_window_data(train_data, window_len, zero_base)\n",
    "    X_test = extract_window_data(test_data, window_len, zero_base)\n",
    "\n",
    "    y_train = train_data[target_col][window_len:].values\n",
    "    y_test = test_data[target_col][window_len:].values\n",
    "\n",
    "    if zero_base:\n",
    "        y_train = y_train / train_data[target_col][:-window_len].values - 1\n",
    "        y_test = y_test / test_data[target_col][:-window_len].values - 1\n",
    "\n",
    "    return train_data, test_data, X_train, X_test, y_train, y_test"
   ]
  },
  {
   "cell_type": "code",
   "execution_count": 57,
   "metadata": {},
   "outputs": [],
   "source": [
    "def build_lstm_model(input_data, output_size, neurons=100, activ_func='linear', dropout=0.2, loss='mse', optimizer='adam'):\n",
    "    print('build_lstm_model')\n",
    "    print(input_data.shape)\n",
    "    model = tf.keras.Sequential()\n",
    "    model.add(LSTM(neurons, input_shape=(input_data.shape[1], input_data.shape[2])))\n",
    "    print('>>>>>>>>>> ')\n",
    "    model.add(Dropout(dropout))\n",
    "    model.add(Dense(units=output_size))\n",
    "    model.add(Activation(activ_func))\n",
    "    model.compile(loss=loss, optimizer=optimizer)\n",
    "    return model"
   ]
  },
  {
   "cell_type": "code",
   "execution_count": 58,
   "metadata": {},
   "outputs": [],
   "source": [
    "def prepare_hist(df):\n",
    "    df = df.toPandas()\n",
    "    df = df[[\"timestamp\", \"price_usd\"]]\n",
    "    df = df.set_index(\"timestamp\")\n",
    "    return df"
   ]
  },
  {
   "cell_type": "code",
   "execution_count": 59,
   "metadata": {},
   "outputs": [],
   "source": [
    "#sched = BlockingScheduler()\n",
    "#@sched.scheduled_job('interval', seconds=60)#@sched.scheduled_job('cron', day_of_week='mon-fri', hour=10)\n",
    "def all_programme(df):\n",
    "    #global hist\n",
    "    hist= prepare_hist(df)\n",
    "    hist=hist.iloc[250:500]\n",
    "    \n",
    "    print('***********************prepare data**************************')\n",
    "    train, test = train_test_split(hist, test_size=0.2)\n",
    "    \n",
    "    print('*********************train, test*******************************')\n",
    "    train, test, X_train, X_test, y_train, y_test = prepare_data(hist, target_col='price_usd', window_len=5)\n",
    "\n",
    "    X_train = np.asarray(X_train).astype(np.float32)\n",
    "    y_train=np.asarray(y_train).astype(np.float32)\n",
    "\n",
    "    model = build_lstm_model(X_train, output_size=1)\n",
    "    \n",
    "    print('******************lancer_training*************************')\n",
    "    history = model.fit( X_train, y_train, epochs=20, batch_size=32, verbose=1, shuffle=True) \n",
    "    \n",
    "    print('***************************tester************************')\n",
    "    targets = test['price_usd'][5:]\n",
    "    preds = model.predict(X_test).squeeze()\n",
    "    print('mse:',mean_absolute_error(preds, y_test))\n",
    "    preds = test['price_usd'].values[:-5] * (preds + 1)\n",
    "    preds = pd.Series(index=targets.index, data=preds)\n",
    "    \n",
    "    print('***************************Plot************************')\n",
    "    line_plot(targets, preds, 'actual', 'prediction', lw=3)\n",
    "    \n",
    "    print('****************to_save*************')\n",
    "    model.save('C:\\\\Users\\\\Utilisateur\\\\Desktop\\\\CIISIBD\\\\S9\\\\7-BIG_DATA_Applications\\\\PROJET\\\\Spark_NoteBook\\\\my_Model.h5')\n",
    "    print('*<saved>*')\n",
    "\n",
    "#sched.start()"
   ]
  },
  {
   "cell_type": "code",
   "execution_count": 61,
   "metadata": {},
   "outputs": [
    {
     "name": "stdout",
     "output_type": "stream",
     "text": [
      "***********************prepare data**************************\n",
      "*********************train, test*******************************\n",
      "build_lstm_model\n",
      "(195, 5, 1)\n",
      ">>>>>>>>>> \n",
      "******************lancer_training*************************\n",
      "Epoch 1/20\n",
      "195/195 [==============================]195/195 [==============================] - 2s 11ms/step - loss: 0.0012\n",
      "\n",
      "Epoch 2/20\n",
      "195/195 [==============================]195/195 [==============================] - 0s 767us/step - loss: 6.1639e-04\n",
      "\n",
      "Epoch 3/20\n",
      "195/195 [==============================]195/195 [==============================] - 0s 965us/step - loss: 3.8796e-04\n",
      "\n",
      "Epoch 4/20\n",
      "195/195 [==============================]195/195 [==============================] - 0s 820us/step - loss: 3.0976e-04\n",
      "\n",
      "Epoch 5/20\n",
      "195/195 [==============================]195/195 [==============================] - 0s 667us/step - loss: 2.7811e-04\n",
      "\n",
      "Epoch 6/20\n",
      "195/195 [==============================]195/195 [==============================] - 0s 738us/step - loss: 2.3430e-04\n",
      "\n",
      "Epoch 7/20\n",
      "195/195 [==============================]195/195 [==============================] - 0s 759us/step - loss: 2.0555e-04\n",
      "\n",
      "Epoch 8/20\n",
      "195/195 [==============================]195/195 [==============================] - 0s 743us/step - loss: 2.0407e-04\n",
      "\n",
      "Epoch 9/20\n",
      "195/195 [==============================]195/195 [==============================] - 0s 533us/step - loss: 1.9351e-04\n",
      "\n",
      "Epoch 10/20\n",
      "195/195 [==============================]195/195 [==============================] - 0s 641us/step - loss: 2.2532e-04 0s - loss: 2.3762e-0\n",
      "\n",
      "Epoch 11/20\n",
      "195/195 [==============================]195/195 [==============================] - 0s 600us/step - loss: 1.4682e-04\n",
      "\n",
      "Epoch 12/20\n",
      "195/195 [==============================]195/195 [==============================] - 0s 595us/step - loss: 1.6261e-04\n",
      "\n",
      "Epoch 13/20\n",
      "195/195 [==============================]195/195 [==============================] - 0s 1ms/step - loss: 1.7290e-04\n",
      "\n",
      "Epoch 14/20\n",
      "195/195 [==============================]195/195 [==============================] - 0s 1ms/step - loss: 1.5013e-04\n",
      "\n",
      "Epoch 15/20\n",
      "195/195 [==============================]195/195 [==============================] - 0s 1ms/step - loss: 1.0766e-04\n",
      "\n",
      "Epoch 16/20\n",
      "195/195 [==============================]195/195 [==============================] - 0s 1000us/step - loss: 1.2486e-04\n",
      "\n",
      "Epoch 17/20\n",
      "195/195 [==============================]195/195 [==============================] - 0s 702us/step - loss: 9.4958e-05\n",
      "\n",
      "Epoch 18/20\n",
      "195/195 [==============================]195/195 [==============================] - 0s 913us/step - loss: 1.2331e-04\n",
      "\n",
      "Epoch 19/20\n",
      "195/195 [==============================]195/195 [==============================] - 0s 615us/step - loss: 8.2902e-05\n",
      "\n",
      "Epoch 20/20\n",
      "195/195 [==============================]195/195 [==============================] - 0s 790us/step - loss: 7.7701e-05\n",
      "\n",
      "***************************tester************************\n",
      "mse: 0.002507352745207905\n",
      "***************************Plot************************\n",
      "****************to_save*************\n",
      "*<saved>*\n"
     ]
    },
    {
     "data": {
      "image/png": "[encoded data removed]",
      "text/plain": [
       "<Figure size 936x504 with 1 Axes>"
      ]
     },
     "metadata": {
      "needs_background": "light"
     },
     "output_type": "display_data"
    }
   ],
   "source": [
    "all_programme(df)"
   ]
  },
  {
   "cell_type": "code",
   "execution_count": null,
   "metadata": {},
   "outputs": [],
   "source": []
  }
 ],
 "metadata": {
  "kernelspec": {
   "display_name": "Python 3",
   "language": "python",
   "name": "python3"
  },
  "language_info": {
   "codemirror_mode": {
    "name": "ipython",
    "version": 3
   },
   "file_extension": ".py",
   "mimetype": "text/x-python",
   "name": "python",
   "nbconvert_exporter": "python",
   "pygments_lexer": "ipython3",
   "version": "3.6.5"
  }
 },
 "nbformat": 4,
 "nbformat_minor": 4
}
