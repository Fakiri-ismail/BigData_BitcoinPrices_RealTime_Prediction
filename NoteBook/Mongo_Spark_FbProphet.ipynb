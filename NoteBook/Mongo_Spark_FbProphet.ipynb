{
 "cells": [
  {
   "cell_type": "code",
   "execution_count": 1,
   "metadata": {},
   "outputs": [],
   "source": [
    "import findspark\n",
    "findspark.init(spark_home='D:\\spark')\n",
    "from pyspark import SparkContext,SparkConf\n",
    "from pyspark.sql import SQLContext"
   ]
  },
  {
   "cell_type": "code",
   "execution_count": 2,
   "metadata": {},
   "outputs": [
    {
     "data": {
      "text/plain": [
       "<pyspark.conf.SparkConf at 0x1d3f65bdcf8>"
      ]
     },
     "execution_count": 2,
     "metadata": {},
     "output_type": "execute_result"
    }
   ],
   "source": [
    "input_uri = \"mongodb://localhost:27017/Bitcoin.data\"\n",
    "output_uri = \"mongodb://localhost:27017/Bitcoin.data\"\n",
    "\n",
    "conf=SparkConf()\n",
    "conf.set('spark.mongodb.input.uri', input_uri)\n",
    "conf.set('spark.mongodb.output.uri', output_uri)\n",
    "conf.set('spark.mongodb.input.sampleSize', 50000)"
   ]
  },
  {
   "cell_type": "code",
   "execution_count": 3,
   "metadata": {},
   "outputs": [
    {
     "name": "stdout",
     "output_type": "stream",
     "text": [
      "root\n",
      " |-- _id: struct (nullable = true)\n",
      " |    |-- oid: string (nullable = true)\n",
      " |-- price_usd: double (nullable = true)\n",
      " |-- timestamp: timestamp (nullable = true)\n",
      "\n"
     ]
    }
   ],
   "source": [
    "sc=SparkContext.getOrCreate(conf=conf)\n",
    "SQLContext=SQLContext(sc)\n",
    "df=SQLContext.read.format(\"com.mongodb.spark.sql.DefaultSource\").load()\n",
    "df.printSchema()"
   ]
  },
  {
   "cell_type": "code",
   "execution_count": 4,
   "metadata": {},
   "outputs": [
    {
     "name": "stdout",
     "output_type": "stream",
     "text": [
      "+--------------------+------------------+--------------------+\n",
      "|                 _id|         price_usd|           timestamp|\n",
      "+--------------------+------------------+--------------------+\n",
      "|[60042141e31d5586...| 35032.71043588458|2021-01-17 12:36:...|\n",
      "|[60042141e31d5586...| 35055.99784257462|2021-01-17 12:36:...|\n",
      "|[60042143e31d5586...| 35054.54889815735|2021-01-17 12:36:...|\n",
      "|[60042149e31d5586...|35057.570382921054|2021-01-17 12:36:...|\n",
      "|[6004214fe31d5586...|  35073.6659496405|2021-01-17 12:36:...|\n",
      "+--------------------+------------------+--------------------+\n",
      "only showing top 5 rows\n",
      "\n"
     ]
    }
   ],
   "source": [
    "df.show(5)"
   ]
  },
  {
   "cell_type": "code",
   "execution_count": 5,
   "metadata": {},
   "outputs": [
    {
     "name": "stdout",
     "output_type": "stream",
     "text": [
      "+--------------------+------------------+\n",
      "|           timestamp|         price_usd|\n",
      "+--------------------+------------------+\n",
      "|2021-01-17 12:36:...| 35032.71043588458|\n",
      "|2021-01-17 12:36:...| 35055.99784257462|\n",
      "|2021-01-17 12:36:...| 35054.54889815735|\n",
      "|2021-01-17 12:36:...|35057.570382921054|\n",
      "|2021-01-17 12:36:...|  35073.6659496405|\n",
      "+--------------------+------------------+\n",
      "only showing top 5 rows\n",
      "\n"
     ]
    }
   ],
   "source": [
    "df.select(\"timestamp\",\"price_usd\").show(5)"
   ]
  },
  {
   "cell_type": "code",
   "execution_count": 6,
   "metadata": {},
   "outputs": [],
   "source": [
    "# df1 = df.select(\"*\").toPandas()\n",
    "# cc = df1.set_index('timestamp')\n",
    "# cc[\"price_usd\"].plot()"
   ]
  },
  {
   "cell_type": "code",
   "execution_count": 7,
   "metadata": {},
   "outputs": [
    {
     "data": {
      "text/plain": [
       "831"
      ]
     },
     "execution_count": 7,
     "metadata": {},
     "output_type": "execute_result"
    }
   ],
   "source": [
    "df.count()"
   ]
  },
  {
   "cell_type": "code",
   "execution_count": 8,
   "metadata": {},
   "outputs": [],
   "source": [
    "df.createOrReplaceTempView(\"BitcoinPrice\")"
   ]
  },
  {
   "cell_type": "code",
   "execution_count": 9,
   "metadata": {},
   "outputs": [
    {
     "name": "stdout",
     "output_type": "stream",
     "text": [
      "+--------------------+------------------+\n",
      "|                  ds|                 y|\n",
      "+--------------------+------------------+\n",
      "|2021-01-17 12:36:...| 35032.71043588458|\n",
      "|2021-01-17 12:36:...| 35055.99784257462|\n",
      "|2021-01-17 12:36:...| 35054.54889815735|\n",
      "|2021-01-17 12:36:...|35057.570382921054|\n",
      "|2021-01-17 12:36:...|  35073.6659496405|\n",
      "|2021-01-17 12:36:...| 35068.84947610575|\n",
      "|2021-01-17 12:36:...| 35079.08755231992|\n",
      "|2021-01-17 12:37:...| 35107.52083601305|\n",
      "|2021-01-17 12:37:...|35119.238905161365|\n",
      "|2021-01-17 12:37:...|35106.350714309396|\n",
      "+--------------------+------------------+\n",
      "only showing top 10 rows\n",
      "\n"
     ]
    }
   ],
   "source": [
    "SQLContext.sql(\"SELECT timestamp as ds, price_usd as y FROM BitcoinPrice ORDER BY ds\").show(10)"
   ]
  },
  {
   "cell_type": "code",
   "execution_count": 12,
   "metadata": {},
   "outputs": [],
   "source": [
    "df_sql = SQLContext.sql(\"SELECT timestamp as ds, price_usd as y FROM BitcoinPrice ORDER BY ds\")\n",
    "df_sql = df_sql.select(\"*\").toPandas()"
   ]
  },
  {
   "cell_type": "code",
   "execution_count": 16,
   "metadata": {},
   "outputs": [],
   "source": [
    "df_sql = df_sql[:100]"
   ]
  },
  {
   "cell_type": "code",
   "execution_count": 11,
   "metadata": {},
   "outputs": [
    {
     "name": "stdout",
     "output_type": "stream",
     "text": [
      "== Physical Plan ==\n",
      "*(1) Scan MongoRelation(MongoRDD[0] at RDD at MongoRDD.scala:51,Some(StructType(StructField(_id,StructType(StructField(oid,StringType,true)),true), StructField(price_usd,DoubleType,true), StructField(timestamp,TimestampType,true)))) [_id#0,price_usd#1,timestamp#2] PushedFilters: [], ReadSchema: struct<_id:struct<oid:string>,price_usd:double,timestamp:timestamp>\n"
     ]
    }
   ],
   "source": [
    "df.explain()"
   ]
  },
  {
   "cell_type": "code",
   "execution_count": 12,
   "metadata": {},
   "outputs": [],
   "source": [
    "from pyspark.sql.types import *\n",
    "\n",
    "result_shema = StructType([\n",
    "    StructField(\"ds\", TimestampType()),\n",
    "    StructField(\"y\", DoubleType()),\n",
    "    StructField(\"yhat\", DoubleType()),\n",
    "    StructField(\"yhat_upper\", DoubleType()),\n",
    "    StructField(\"yhat_lower\", DoubleType()),\n",
    "])"
   ]
  },
  {
   "cell_type": "code",
   "execution_count": 18,
   "metadata": {},
   "outputs": [],
   "source": [
    "import numpy as np\n",
    "\n",
    "def percentage_error(y_true, y_pred):\n",
    "    y_true, y_pred = np.array(y_true), np.array(y_pred)\n",
    "    return np.mean(np.abs((y_true - y_pred)/ y_true)) * 100"
   ]
  },
  {
   "cell_type": "code",
   "execution_count": null,
   "metadata": {},
   "outputs": [],
   "source": [
    "from fbprophet import Prophet\n",
    "from fbprophet.diagnostics import cross_validation\n",
    "\n",
    "model = Prophet(growth='linear',seasonality_mode='multiplicative', mcmc_samples=0, \n",
    "                yearly_seasonality=False, weekly_seasonality=False, daily_seasonality=False)\n",
    "\n",
    "model.fit(df_sql)\n",
    "    \n",
    "future_pd = model.make_future_dataframe(periods=10, freq='T')\n",
    "forecast_pd = model.predict(future_pd)\n",
    "\n",
    "f_pd = forecast_pd[['ds', 'yhat', 'yhat_upper', 'yhat_lower']].set_index('ds')\n",
    "b_pd = Bitcoin_data[['ds', 'y']].set_index('ds')\n",
    "\n",
    "results_pd = f_pd.join(b_pd, how='left')\n",
    "results_pd.reset_index(level=0, inplace=True)\n",
    "\n",
    "results_pd[['ds', 'y', 'yhat', 'yhat_upper', 'yhat_lower']]"
   ]
  },
  {
   "cell_type": "code",
   "execution_count": null,
   "metadata": {},
   "outputs": [],
   "source": []
  }
 ],
 "metadata": {
  "kernelspec": {
   "display_name": "Python 3",
   "language": "python",
   "name": "python3"
  },
  "language_info": {
   "codemirror_mode": {
    "name": "ipython",
    "version": 3
   },
   "file_extension": ".py",
   "mimetype": "text/x-python",
   "name": "python",
   "nbconvert_exporter": "python",
   "pygments_lexer": "ipython3",
   "version": "3.6.5"
  }
 },
 "nbformat": 4,
 "nbformat_minor": 4
}
